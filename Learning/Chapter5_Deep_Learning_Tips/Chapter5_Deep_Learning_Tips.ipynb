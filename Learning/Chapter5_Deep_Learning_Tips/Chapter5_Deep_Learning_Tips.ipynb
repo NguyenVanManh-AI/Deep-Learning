{
 "cells": [
  {
   "cell_type": "markdown",
   "metadata": {},
   "source": [
    "# Chapter5 : Deep Learning Tips\n",
    "Tham khảo một số dataset tương tự \n",
    "- https://www.kaggle.com/code/aman10kr/flowers-classifier-vgg-16-from-scratch-200-epochs/input\n",
    "- https://www.kaggle.com/datasets/alxmamaev/flowers-recognition"
   ]
  },
  {
   "cell_type": "markdown",
   "metadata": {},
   "source": [
    "Tham khảo : https://www.kaggle.com/code/aman10kr/flowers-classifier-vgg-16-from-scratch-200-epochs/input"
   ]
  }
 ],
 "metadata": {
  "language_info": {
   "name": "python"
  }
 },
 "nbformat": 4,
 "nbformat_minor": 2
}

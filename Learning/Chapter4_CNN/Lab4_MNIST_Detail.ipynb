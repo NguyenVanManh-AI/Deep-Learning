{
  "cells": [
    {
      "cell_type": "code",
      "execution_count": 34,
      "metadata": {
        "colab": {
          "base_uri": "https://localhost:8080/",
          "height": 34
        },
        "colab_type": "code",
        "id": "hIArylcR3KOZ",
        "outputId": "ee3b6b52-83f5-4273-a586-c95d5981a10b"
      },
      "outputs": [],
      "source": [
        "# 1. Thêm các thư viện cần thiết\n",
        "import numpy as np\n",
        "import matplotlib.pyplot as plt\n",
        "from keras.models import Sequential\n",
        "from keras.layers import Dense, Dropout, Activation, Flatten\n",
        "from keras.layers import Conv2D, MaxPooling2D\n",
        "from tensorflow.python.keras.utils import np_utils # thay cho from keras.utils import np_utils (error)\n",
        "from keras.datasets import mnist"
      ]
    },
    {
      "cell_type": "markdown",
      "metadata": {
        "colab_type": "text",
        "id": "MZMLgpcY3b7G"
      },
      "source": [
        "Load dữ liệu từ MNIST dataset, bao gồm 60.000 training set và 10.000 test set. Sau đó chia bộ traning set thành 2: 50.000 cho training set và 10.000 dữ liệu cho validation set."
      ]
    },
    {
      "cell_type": "code",
      "execution_count": 35,
      "metadata": {
        "colab": {
          "base_uri": "https://localhost:8080/",
          "height": 34
        },
        "colab_type": "code",
        "id": "IYP0FcDeRnJO",
        "outputId": "c907c963-c9ae-4215-87c5-4cf1b114f645"
      },
      "outputs": [
        {
          "name": "stdout",
          "output_type": "stream",
          "text": [
            "(50000, 28, 28)\n"
          ]
        }
      ],
      "source": [
        "# 2. Load dữ liệu MNIST\n",
        "(X_train, y_train), (X_test, y_test) = mnist.load_data()\n",
        "X_val, y_val = X_train[50000:60000,:], y_train[50000:60000]\n",
        "X_train, y_train = X_train[:50000,:], y_train[:50000]\n",
        "print(X_train.shape) # (50000, 28, 28)\n",
        "# 50.000 ảnh => cho ra 50.000 ma trận , mỗi ma trận có kích thước là W*H = 28*28 , đây là ảnh xám nên chỉ có W và H (D=1)\n",
        "# Nếu là ảnh màu thì W*H*D với D = 3  "
      ]
    },
    {
      "cell_type": "markdown",
      "metadata": {},
      "source": [
        "#### Trong keras dữ liệu đầu vào với yêu cầu là : Dữ liệu input cho mô hình convolutional neural network là 1 tensor 4 chiều (N, W, H, D)"
      ]
    },
    {
      "cell_type": "markdown",
      "metadata": {
        "colab_type": "text",
        "id": "jIEIibrB4LDb"
      },
      "source": [
        "Dữ liệu input cho mô hình convolutional neural network là 1 tensor 4 chiều (N, W, H, D), trong bài này <strong style=\"color:yellow\">là ảnh xám</strong> nên W = H = 28, D = 1, N là số lượng ảnh cho mỗi lần training. Do dữ liệu ảnh ở trên có kích thước là (N, 28, 28) tức là (N, W, H) <strong style=\"color:yellow\">nên cần reshape lại thành kích thước N * 28 * 28 * 1 để giống kích thước mà keras yêu cầu.</strong> "
      ]
    },
    {
      "cell_type": "code",
      "execution_count": 36,
      "metadata": {
        "colab": {},
        "colab_type": "code",
        "id": "cfFUzBFcRot6"
      },
      "outputs": [],
      "source": [
        "# 3. Reshape lại dữ liệu cho đúng kích thước mà keras yêu cầu\n",
        "X_train = X_train.reshape(X_train.shape[0], 28, 28, 1) # (N, W, H, D) = (50.000, 28, 28, 1)\n",
        "X_val = X_val.reshape(X_val.shape[0], 28, 28, 1) # (N, W, H, D) = (10.000, 28, 28, 1)\n",
        "X_test = X_test.reshape(X_test.shape[0], 28, 28, 1) # (N, W, H, D) = (10.000, 28, 28, 1)"
      ]
    },
    {
      "cell_type": "markdown",
      "metadata": {
        "colab_type": "text",
        "id": "FifpZK_b7KvJ"
      },
      "source": [
        "Bước này chuyển đổi one-hot encoding label Y của ảnh ví dụ số 5 thành vector [0, 0, 0, 0, 0, 1, 0, 0, 0, 0]"
      ]
    },
    {
      "cell_type": "markdown",
      "metadata": {},
      "source": [
        "#### <strong>HAY</strong> "
      ]
    },
    {
      "cell_type": "code",
      "execution_count": 37,
      "metadata": {
        "colab": {
          "base_uri": "https://localhost:8080/",
          "height": 50
        },
        "colab_type": "code",
        "id": "OHwO1pw6RsA9",
        "outputId": "5f9165db-c4ba-4778-aca2-ac43a1e75794"
      },
      "outputs": [
        {
          "name": "stdout",
          "output_type": "stream",
          "text": [
            "Dữ liệu y ban đầu  5\n",
            "Dữ liệu y sau one-hot encoding  [0. 0. 0. 0. 0. 1. 0. 0. 0. 0.]\n"
          ]
        }
      ],
      "source": [
        "# 4. One hot encoding label (Y)\n",
        "Y_train = np_utils.to_categorical(y_train, 10)\n",
        "Y_val = np_utils.to_categorical(y_val, 10)\n",
        "Y_test = np_utils.to_categorical(y_test, 10)\n",
        "print('Dữ liệu y ban đầu ', y_train[0])\n",
        "print('Dữ liệu y sau one-hot encoding ',Y_train[0])"
      ]
    },
    {
      "cell_type": "markdown",
      "metadata": {
        "colab_type": "text",
        "id": "LuoSHJ1m7uUQ"
      },
      "source": [
        "Bước này định nghĩa model:\n",
        "1. Model = Sequential() để nói cho keras là ta sẽ xếp các layer lên nhau để tạo model. Ví dụ input -> CONV -> POOL -> CONV -> POOL -> FLATTEN -> FC -> OUTPUT\n",
        "2.  Ở layer đầu tiên cần chỉ rõ input_shape của ảnh, input_shape = (W, H, D), ta dùng ảnh xám kích thước (28,28) nên input_shape = (28, 28, 1) . Nếu ảnh màu thì D = 3 , nên nếu ảnh màu sẽ là (28, 28, 3)\n",
        "3. Khi thêm Convolutional Layer ta cần chỉ rõ các tham số: K (số lượng layer), kernel size (W, H), hàm activation sử dụng. cấu trúc: model.add(Conv2D(K, (W, H), activation='tên_hàm_activation'))\n",
        "4. Khi thêm Maxpooling Layer cần chỉ rõ size của kernel, model.add(MaxPooling2D(pool_size=(W, H)))\n",
        "5. Bước Flatten chuyển từ tensor sang vector chỉ cần thêm flatten layer.\n",
        "6. Để thêm Fully Connected Layer (FC) cần chỉ rõ số lượng node trong layer và hàm activation sử dụng trong layer, cấu trúc: model.add(Dense(số_lượng_node activation='tên_hàm activation'))\n"
      ]
    },
    {
      "cell_type": "markdown",
      "metadata": {},
      "source": [
        "Trong Machine Learning và Deep Learning, \"Sequential\" thường được sử dụng để chỉ một kiểu mô hình hoặc kiến trúc mạng neural đơn giản, gồm các layer liên tiếp nhau theo một thứ tự cố định. Trong ngữ cảnh của thư viện Keras (một thư viện phổ biến cho Deep Learning), \"Sequential\" là một lớp mô hình cho phép bạn xây dựng một mạng neural theo kiểu tuần tự.\n",
        "\n",
        "Một mạng Sequential trong Keras cho phép bạn xây dựng một mạng neural từng layer một, mà mỗi layer đều được kết nối với layer tiếp theo theo một thứ tự nhất định. Điều này làm cho việc xây dựng và huấn luyện mạng neural trở nên đơn giản và dễ dàng, đặc biệt là đối với các mạng neural có cấu trúc đơn giản như các mạng feedforward.\n",
        "\n",
        "Cấu trúc của mạng Sequential rất phổ biến trong nhiều ứng dụng Deep Learning, như nhận diện hình ảnh, dự đoán chuỗi, và xử lý ngôn ngữ tự nhiên."
      ]
    },
    {
      "cell_type": "code",
      "execution_count": 38,
      "metadata": {},
      "outputs": [
        {
          "data": {
            "text/plain": [
              "(28, 28, 1)"
            ]
          },
          "execution_count": 38,
          "metadata": {},
          "output_type": "execute_result"
        }
      ],
      "source": [
        "X_train.shape[1:]"
      ]
    },
    {
      "cell_type": "markdown",
      "metadata": {},
      "source": [
        "- Conv2D là hàm để tạo tích chập với kernel w . \n",
        "- Với công thức : Conv2D(k,w,input_shape=(H,W,D)) . K là số kernel cần áp dụng , w là kích thước kernel . W và H là kích thước của ma trận ảnh . D là độ sâu , D=1 nếu ảnh xám và D=3 nếu là ảnh màu .\n",
        "- Ví dụ : Conv2D(32, (3, 3), input_shape=(height, width, 3)) nghĩa là 32 kernel kích thước 3*3 và đầu vào là height , width với ảnh màu nên D=3 (3 lớp red, green, blue)\n"
      ]
    },
    {
      "cell_type": "markdown",
      "metadata": {},
      "source": [
        "- pooling có 3 phương pháp : Max , min , Trung bình\n",
        "- MaxPooling2D => Phương pháp pooling được sử dụng ở đây là Max\n",
        "- model.add(MaxPooling2D(pool_size=(2,2))) => kích thước của pooling là 2*2 "
      ]
    },
    {
      "cell_type": "markdown",
      "metadata": {},
      "source": [
        "- model.add(Flatten()) => layer latten để chuyển tensor về Vector đặc trưng \n"
      ]
    },
    {
      "cell_type": "markdown",
      "metadata": {},
      "source": [
        "- model.add(Dense(128, activation='sigmoid')) => để thêm các lớp Fully connected \n",
        "- model.add(Dense(10, activation='softmax')) => Vì là bài toán nhân dạng nhiều nhãn nên sẽ là activation softmax "
      ]
    },
    {
      "cell_type": "markdown",
      "metadata": {},
      "source": [
        "#### [HAY]\n",
        "Giải thích cho : \n",
        "```\n",
        "# Thêm Fully Connected layer với 128 nodes và dùng hàm sigmoid\n",
        "model.add(Dense(128, activation='sigmoid'))\n",
        "\n",
        "# Output layer với 10 node và dùng softmax function để chuyển sang xác xuất.\n",
        "model.add(Dense(10, activation='softmax'))\n",
        "```\n",
        "1. Trong mạng neural network, các lớp fully connected layer (hay còn gọi là dense layer) \n",
        "2. Như đã nói đầu ra của y dự đoán phải là one-hot (1 vector có chiều dài là 10 và gồm các giá trị 0 và 1) => Chính vì thế ta sử dụng hàm activation sigmoid với đặc thù là dữ liệu đầu ra của nó sẽ là 0 hoặc 1 . Với số nodes là 128 . \n",
        "=> Ta có thể hiểu đơn giản là : \n",
        "    - Sau khi qua Flatten thu được vector đặc trưng thì vector này nó sẽ trở thành input cho lớp input 128 node thu được z \n",
        "    - Sau khi có được z thì cho qua sigmoid và ra được giá trị a là 0 hoặc 1 , các giá trị này sẽ là input cho lớp tiếp theo gồm 10 node \n",
        "    - Như vậy ta sẽ có giá trị output là 10 giá trị 0 hoặc 1 => tạo thành one-hot chiều dài là 10 gồm các giá trị 0 hoặc 1   \n",
        "    - LƯU Ý : 10 ở lớp dense cuối không được điều chỉnh vì bài toán ta nhận diện 10 chữ số nên có 10 nhãn \n",
        "    - Tuy nhiên số 128 là có thể điều chỉnh thành số khác , nếu hợp lí thì có thể thu được độ chính xác cao \n",
        "3. Ta biết rằng đầu ra là các one-hot có chiều dài là 10 gồm các giá trị 0 và 1 => Ta sử dụng Dense với 10 nghĩa là 10 node => nó sẽ cho ra vector one-hot với chiều dài là 10 với hàm activation softmax cho dự đoán nhiều nhãn \n",
        "\n",
        "\n"
      ]
    },
    {
      "cell_type": "code",
      "execution_count": 39,
      "metadata": {
        "colab": {
          "base_uri": "https://localhost:8080/",
          "height": 87
        },
        "colab_type": "code",
        "id": "YhER3pYeRtjC",
        "outputId": "bf4676d3-d716-4300-e789-aa66b6270574"
      },
      "outputs": [],
      "source": [
        "\n",
        "# 5. Định nghĩa model\n",
        "model = Sequential()\n",
        " \n",
        "# Thêm Convolutional layer với 32 kernel, kích thước kernel 3*3\n",
        "# dùng hàm sigmoid làm activation và chỉ rõ input_shape cho layer đầu tiên \n",
        "\n",
        "# model.add(Conv2D(32, (3, 3), activation='sigmoid', input_shape=(28,28,1)))\n",
        "model.add(Conv2D(32, (3, 3), activation='sigmoid', input_shape=(X_train.shape[1:])))\n",
        "# 32, (3, 3) chính là 32 kernel w với kích thước là 3*3 \n",
        "\n",
        "# Thêm Convolutional layer\n",
        "model.add(Conv2D(32, (3, 3), activation='sigmoid'))\n",
        "\n",
        "# Thêm Max pooling layer\n",
        "model.add(MaxPooling2D(pool_size=(2,2)))\n",
        "# MaxPooling2D \n",
        "# kích thước của pooling là 2*2 \n",
        "\n",
        "# Flatten layer chuyển từ tensor sang vector\n",
        "model.add(Flatten()) \n",
        "\n",
        "# Thêm Fully Connected layer với 128 nodes và dùng hàm sigmoid\n",
        "model.add(Dense(128, activation='sigmoid'))\n",
        "\n",
        "# Output layer với 10 node và dùng softmax function để chuyển sang xác xuất.\n",
        "model.add(Dense(10, activation='softmax'))"
      ]
    },
    {
      "cell_type": "markdown",
      "metadata": {},
      "source": [
        "- Như đã nói : Đối với bài toán nhận dạng nhiều nhãn thì dùng hàm loss là categorical_crossentropy\n",
        "- Ở đây đang dùng thuật toán tối ưu là : adam (không yêu cầu phải dùng adam , có thể đổi sang thuật toán khác cũng được)"
      ]
    },
    {
      "cell_type": "code",
      "execution_count": 40,
      "metadata": {
        "colab": {},
        "colab_type": "code",
        "id": "T37UmXrzRvfT"
      },
      "outputs": [],
      "source": [
        "# 6. Compile model, chỉ rõ hàm loss_function nào được sử dụng, phương thức \n",
        "# đùng để tối ưu hàm loss function.\n",
        "model.compile(loss='categorical_crossentropy',\n",
        "              optimizer='adam',\n",
        "              metrics=['accuracy'])"
      ]
    },
    {
      "cell_type": "markdown",
      "metadata": {},
      "source": [
        "Trong lệnh `model.compile`, tham số `metrics` được sử dụng để chỉ định các độ đo được sử dụng để đánh giá hiệu suất của mô hình trong quá trình huấn luyện và kiểm tra. \n",
        "\n",
        "Trong trường hợp `metrics=['accuracy']`, nó chỉ định rằng độ chính xác (accuracy) sẽ được tính toán và hiển thị trong quá trình huấn luyện và kiểm tra mô hình. Độ chính xác là tỷ lệ phần trăm của các dự đoán chính xác trên tổng số mẫu được dự đoán. Điều này giúp đánh giá khả năng của mô hình trong việc phân loại các mẫu vào các lớp được xác định."
      ]
    },
    {
      "cell_type": "code",
      "execution_count": 41,
      "metadata": {
        "colab": {
          "base_uri": "https://localhost:8080/",
          "height": 440
        },
        "colab_type": "code",
        "id": "u8oF7cHeRwoM",
        "outputId": "7db6801e-cd87-4330-9b93-3513b87b55e3"
      },
      "outputs": [
        {
          "name": "stdout",
          "output_type": "stream",
          "text": [
            "Epoch 1/10\n"
          ]
        },
        {
          "name": "stdout",
          "output_type": "stream",
          "text": [
            "\u001b[1m1563/1563\u001b[0m \u001b[32m━━━━━━━━━━━━━━━━━━━━\u001b[0m\u001b[37m\u001b[0m \u001b[1m11s\u001b[0m 6ms/step - accuracy: 0.7839 - loss: 0.7590 - val_accuracy: 0.9819 - val_loss: 0.0714\n",
            "Epoch 2/10\n",
            "\u001b[1m1563/1563\u001b[0m \u001b[32m━━━━━━━━━━━━━━━━━━━━\u001b[0m\u001b[37m\u001b[0m \u001b[1m10s\u001b[0m 6ms/step - accuracy: 0.9834 - loss: 0.0606 - val_accuracy: 0.9861 - val_loss: 0.0512\n",
            "Epoch 3/10\n",
            "\u001b[1m1563/1563\u001b[0m \u001b[32m━━━━━━━━━━━━━━━━━━━━\u001b[0m\u001b[37m\u001b[0m \u001b[1m9s\u001b[0m 6ms/step - accuracy: 0.9902 - loss: 0.0357 - val_accuracy: 0.9848 - val_loss: 0.0476\n",
            "Epoch 4/10\n",
            "\u001b[1m1563/1563\u001b[0m \u001b[32m━━━━━━━━━━━━━━━━━━━━\u001b[0m\u001b[37m\u001b[0m \u001b[1m9s\u001b[0m 6ms/step - accuracy: 0.9935 - loss: 0.0241 - val_accuracy: 0.9884 - val_loss: 0.0411\n",
            "Epoch 5/10\n",
            "\u001b[1m1563/1563\u001b[0m \u001b[32m━━━━━━━━━━━━━━━━━━━━\u001b[0m\u001b[37m\u001b[0m \u001b[1m9s\u001b[0m 6ms/step - accuracy: 0.9954 - loss: 0.0166 - val_accuracy: 0.9889 - val_loss: 0.0396\n",
            "Epoch 6/10\n",
            "\u001b[1m1563/1563\u001b[0m \u001b[32m━━━━━━━━━━━━━━━━━━━━\u001b[0m\u001b[37m\u001b[0m \u001b[1m10s\u001b[0m 6ms/step - accuracy: 0.9977 - loss: 0.0101 - val_accuracy: 0.9879 - val_loss: 0.0424\n",
            "Epoch 7/10\n",
            "\u001b[1m1563/1563\u001b[0m \u001b[32m━━━━━━━━━━━━━━━━━━━━\u001b[0m\u001b[37m\u001b[0m \u001b[1m10s\u001b[0m 6ms/step - accuracy: 0.9974 - loss: 0.0097 - val_accuracy: 0.9879 - val_loss: 0.0412\n",
            "Epoch 8/10\n",
            "\u001b[1m1563/1563\u001b[0m \u001b[32m━━━━━━━━━━━━━━━━━━━━\u001b[0m\u001b[37m\u001b[0m \u001b[1m9s\u001b[0m 6ms/step - accuracy: 0.9987 - loss: 0.0058 - val_accuracy: 0.9897 - val_loss: 0.0382\n",
            "Epoch 9/10\n",
            "\u001b[1m1563/1563\u001b[0m \u001b[32m━━━━━━━━━━━━━━━━━━━━\u001b[0m\u001b[37m\u001b[0m \u001b[1m9s\u001b[0m 6ms/step - accuracy: 0.9996 - loss: 0.0031 - val_accuracy: 0.9875 - val_loss: 0.0463\n",
            "Epoch 10/10\n",
            "\u001b[1m1563/1563\u001b[0m \u001b[32m━━━━━━━━━━━━━━━━━━━━\u001b[0m\u001b[37m\u001b[0m \u001b[1m10s\u001b[0m 6ms/step - accuracy: 0.9991 - loss: 0.0038 - val_accuracy: 0.9895 - val_loss: 0.0371\n"
          ]
        }
      ],
      "source": [
        "# 7. Thực hiện train model với data\n",
        "H = model.fit(X_train, Y_train, validation_data=(X_val, Y_val),\n",
        "          batch_size=32, epochs=10, verbose=1)"
      ]
    },
    {
      "cell_type": "markdown",
      "metadata": {},
      "source": [
        "Trong đoạn code trên:\n",
        "\n",
        "1. `model.fit`: Đây là phương thức để huấn luyện mô hình. Nó nhận đầu vào là các dữ liệu huấn luyện (`X_train`, `Y_train`) và dữ liệu validation (`X_val`, `Y_val`). Trong quá trình huấn luyện, mô hình sẽ được cập nhật dựa trên dữ liệu huấn luyện và sẽ được đánh giá trên dữ liệu validation để kiểm tra hiệu suất và tránh việc overfitting.\n",
        "\n",
        "2. `batch_size=32`: Đây là kích thước của các batch dữ liệu được sử dụng trong mỗi lần cập nhật trọng số của mô hình. Trong trường hợp này, kích thước batch là 32, tức là 32 mẫu dữ liệu sẽ được sử dụng để cập nhật trọng số mỗi lần.\n",
        "\n",
        "3. `epochs=10`: Số lần mà toàn bộ tập dữ liệu sẽ được sử dụng để huấn luyện mô hình. Trong trường hợp này, mô hình sẽ được huấn luyện qua 10 epochs.\n",
        "\n",
        "4. `verbose=1`: Điều này chỉ định cách mà quá trình huấn luyện sẽ được hiển thị. Trong trường hợp này, `verbose=1` chỉ định rằng thông tin về quá trình huấn luyện sẽ được hiển thị, bao gồm thông tin về số lần lặp lại (epoch), loss function và các metrics được chọn."
      ]
    },
    {
      "cell_type": "markdown",
      "metadata": {},
      "source": [
        "Trong thư viện Keras, tham số `verbose` trong phương thức `model.fit` có thể nhận các giá trị sau:\n",
        "\n",
        "1. `verbose=0`: Không hiển thị bất kỳ thông tin nào về quá trình huấn luyện trên màn hình.\n",
        "2. `verbose=1`: Hiển thị tiến trình của quá trình huấn luyện trên màn hình. Thông tin bao gồm số lần lặp lại (epoch), loss function và các metrics đã chọn.\n",
        "3. `verbose=2`: Hiển thị thông tin của mỗi epoch trên màn hình, nhưng không hiển thị chi tiết của mỗi lần lặp lại trong epoch.\n",
        "4. `verbose=3`: Chỉ hiển thị thông báo sau khi mỗi epoch kết thúc, mà không hiển thị bất kỳ thông tin nào trong quá trình huấn luyện của các epoch.\n",
        "\n",
        "Trong cả bốn trường hợp, quá trình huấn luyện đều được thực hiện nhưng cách hiển thị thông tin khác nhau sẽ giúp người dùng có thể theo dõi và kiểm soát quá trình huấn luyện một cách linh hoạt."
      ]
    },
    {
      "cell_type": "code",
      "execution_count": 42,
      "metadata": {
        "colab": {
          "base_uri": "https://localhost:8080/",
          "height": 393
        },
        "colab_type": "code",
        "id": "NkITk_WEYc2R",
        "outputId": "efa7428c-1001-4904-af44-35a26a9f047d"
      },
      "outputs": [
        {
          "data": {
            "text/plain": [
              "<matplotlib.legend.Legend at 0x1c5716d34f0>"
            ]
          },
          "execution_count": 42,
          "metadata": {},
          "output_type": "execute_result"
        },
        {
          "data": {
            "image/png": "[encoded data removed]",
            "text/plain": [
              "<Figure size 640x480 with 1 Axes>"
            ]
          },
          "metadata": {},
          "output_type": "display_data"
        }
      ],
      "source": [
        "# 8. Vẽ đồ thị loss, accuracy của traning set và validation set\n",
        "fig = plt.figure()\n",
        "numOfEpoch = 10\n",
        "plt.plot(np.arange(0, numOfEpoch), H.history['loss'], label='training loss')\n",
        "plt.plot(np.arange(0, numOfEpoch), H.history['val_loss'], label='validation loss')\n",
        "plt.plot(np.arange(0, numOfEpoch), H.history['accuracy'], label='accuracy') # sử dụng từ khóa accuracy thay vì acc\n",
        "plt.plot(np.arange(0, numOfEpoch), H.history['val_accuracy'], label='validation accuracy') # sử dụng từ khóa val_accuracy thay vì val_acc\n",
        "plt.title('Accuracy and Loss')\n",
        "plt.xlabel('Epoch')\n",
        "plt.ylabel('Loss|Accuracy')\n",
        "plt.legend()"
      ]
    },
    {
      "cell_type": "code",
      "execution_count": 43,
      "metadata": {
        "colab": {
          "base_uri": "https://localhost:8080/",
          "height": 34
        },
        "colab_type": "code",
        "id": "mvRM2M6NRy9Q",
        "outputId": "a01fbf3b-976f-476b-feae-f7e67bdfd634"
      },
      "outputs": [
        {
          "name": "stdout",
          "output_type": "stream",
          "text": [
            "[0.033106762915849686, 0.9901000261306763]\n"
          ]
        }
      ],
      "source": [
        "# 9. Đánh giá model với dữ liệu test set\n",
        "score = model.evaluate(X_test, Y_test, verbose=0)\n",
        "print(score)"
      ]
    },
    {
      "cell_type": "markdown",
      "metadata": {},
      "source": [
        "Kết quả trả về `[0.035371359437704086, 0.9887999892234802]` trong trường hợp này là kết quả của việc đánh giá model trên tập dữ liệu test. Cụ thể:\n",
        "\n",
        "- Phần tử đầu tiên (`0.035371359437704086`) là giá trị của hàm loss trên tập dữ liệu test. Đây là giá trị trung bình của loss function trên các mẫu dữ liệu trong tập test.\n",
        "  \n",
        "- Phần tử thứ hai (`0.9887999892234802`) là độ chính xác của model trên tập dữ liệu test, được tính dưới dạng tỷ lệ giữa số lượng dự đoán đúng và tổng số lượng mẫu trong tập test.\n",
        "\n",
        "Kết quả này cho thấy model có độ chính xác khoảng 98.88% trên tập dữ liệu test, và giá trị của hàm loss trên tập test là khoảng 0.035. Đây là các thông số quan trọng để đánh giá hiệu suất của model trên dữ liệu mới."
      ]
    },
    {
      "cell_type": "markdown",
      "metadata": {
        "colab_type": "text",
        "id": "lgAVysTefR5Q"
      },
      "source": [
        "Ta sẽ dùng kết quả đánh giá của mode với test set để làm kết quả cuối cùng của model. Tức model của chúng ta dữ đoán chữ số có độ chính xác 98.92% với MNIST dataset. Nghĩa là dự đoán khoảng 100 ảnh thì sai 1 ảnh."
      ]
    },
    {
      "cell_type": "code",
      "execution_count": 44,
      "metadata": {
        "colab": {
          "base_uri": "https://localhost:8080/",
          "height": 364
        },
        "colab_type": "code",
        "id": "y25mu5OTYG4d",
        "outputId": "8214104c-a382-47a2-c911-5c496f7bc1b9"
      },
      "outputs": [
        {
          "name": "stdout",
          "output_type": "stream",
          "text": [
            "\u001b[1m1/1\u001b[0m \u001b[32m━━━━━━━━━━━━━━━━━━━━\u001b[0m\u001b[37m\u001b[0m \u001b[1m0s\u001b[0m 59ms/step\n",
            "Giá trị dự đoán:  6\n"
          ]
        },
        {
          "data": {
            "image/png": "[encoded data removed]",
            "text/plain": [
              "<Figure size 640x480 with 1 Axes>"
            ]
          },
          "metadata": {},
          "output_type": "display_data"
        }
      ],
      "source": [
        "# 10. Dự đoán ảnh\n",
        "plt.imshow(X_test[100].reshape(28,28), cmap='gray')\n",
        "y_predict = model.predict(X_test[100].reshape(1,28,28,1))\n",
        "print('Giá trị dự đoán: ', np.argmax(y_predict))"
      ]
    },
    {
      "cell_type": "markdown",
      "metadata": {},
      "source": [
        "#### Lưu lại model và load ra lại để sử dụng khi cần (không cần phải chạy lại file)"
      ]
    },
    {
      "cell_type": "code",
      "execution_count": 45,
      "metadata": {},
      "outputs": [
        {
          "name": "stderr",
          "output_type": "stream",
          "text": [
            "WARNING:absl:You are saving your model as an HDF5 file via `model.save()` or `keras.saving.save_model(model)`. This file format is considered legacy. We recommend using instead the native Keras format, e.g. `model.save('my_model.keras')` or `keras.saving.save_model(model, 'my_model.keras')`. \n",
            "WARNING:absl:Compiled the loaded model, but the compiled metrics have yet to be built. `model.compile_metrics` will be empty until you train or evaluate the model.\n"
          ]
        },
        {
          "name": "stdout",
          "output_type": "stream",
          "text": [
            "\u001b[1m1/1\u001b[0m \u001b[32m━━━━━━━━━━━━━━━━━━━━\u001b[0m\u001b[37m\u001b[0m \u001b[1m0s\u001b[0m 45ms/step\n",
            "Giá trị dự đoán:  7\n"
          ]
        },
        {
          "data": {
            "image/png": "[encoded data removed]",
            "text/plain": [
              "<Figure size 640x480 with 1 Axes>"
            ]
          },
          "metadata": {},
          "output_type": "display_data"
        }
      ],
      "source": [
        "# Lưu model\n",
        "model.save('my_model.h5')\n",
        "\n",
        "from keras.models import load_model\n",
        "\n",
        "# Load model\n",
        "loaded_model = load_model('my_model.h5')\n",
        "\n",
        "# 10. Dự đoán ảnh\n",
        "plt.imshow(X_test[0].reshape(28,28), cmap='gray')\n",
        "\n",
        "y_predict = loaded_model.predict(X_test[0].reshape(1,28,28,1))\n",
        "print('Giá trị dự đoán: ', np.argmax(y_predict))\n"
      ]
    },
    {
      "cell_type": "markdown",
      "metadata": {},
      "source": [
        "### Với bài toán nhận diện chữ số từ 0 đến 9\n",
        "#### Danh sách các tham số có thể thay đổi để tối ưu model \n",
        "- Thay đổi số lượng kernel : k (32) và kích thước kernel : w(3, 3) . model.add(Conv2D(32, (3, 3), activation='sigmoid', input_shape=(X_train.shape[1:])))\n",
        "- Thay đổi hàm kích hoạt tại các lớp tích chập Conv2D : activation (sigmoid) bằng các hàm khác \n",
        "- Pooling : MaxPooling2D  thay bằng phương pháp khác ví dụ AveragePooling2D (trung bình) và thay đổi kích thước pooling \n",
        "- Số lượng node trong các lớp Fully Connected (128) có thể thay đổi thành một số nodes khác \n",
        "- Hàm loss và optimizer: Thử nghiệm với các hàm loss khác nhau như 'categorical_crossentropy', 'mean_squared_error' và các optimizer khác nhau như 'adam', 'sgd', 'rmsprop' để xem liệu cách lựa chọn này có ảnh hưởng đến hiệu suất của mô hình không.\n",
        "- Batch_size: Thay đổi batch_size có thể ảnh hưởng đến tốc độ huấn luyện và độ chính xác của mô hình , có thể thay đổi trong tốc độ học và hiệu suất của mô hình.\n",
        "- Epochs: Thay đổi số lượng epochs có thể giúp bạn xác định khi nào mô hình đã hội tụ và khi nào nó bắt đầu overfitting, có thể giảm số lượng epochs nếu thấy mô hình bắt đầu overfitting trên dữ liệu huấn luyện hoặc tăng số lượng epochs nếu mô hình vẫn chưa hội tụ.\n",
        "- Metrics, bạn có thể đo lường hiệu suất của mô hình bằng các phương pháp khác nhau, không chỉ là accuracy. \n",
        "    + Accuracy: Tỷ lệ dự đoán chính xác trên tất cả các mẫu.\n",
        "    + Precision: Tỷ lệ giữa số lượng dự đoán dương tính đúng và tổng số dự đoán dương tính.\n",
        "    + Recall: Tỷ lệ giữa số lượng dự đoán dương tính đúng và tổng số mẫu thực sự là dương tính.\n",
        "    + F1-score: Trung bình điều hòa giữa Precision và Recall.\n",
        "    + ROC-AUC: Diện tích dưới đường cong ROC (Receiver Operating Characteristic), thường được sử dụng cho các bài toán phân loại nhị phân.\n",
        "    + Mean Squared Error (MSE): Trung bình của bình phương của sự khác biệt giữa các giá trị dự đoán và giá trị thực tế.\n",
        "    + Mean Absolute Error (MAE): Trung bình của giá trị tuyệt đối của sự khác biệt giữa các giá trị dự đoán và giá trị thực tế.\n",
        "    + R-squared (R2): Phần trăm phương sai của biến phụ thuộc mà mô hình giải thích được.\n",
        "\n",
        "#### Danh sách các tham số không nên thay đổi \n",
        "- Kích thước dữ liệu đầu vào , đây là các con số gần như cố định , D=1 hay D=3 phụ thuộc vào ảnh xám hay ảnh màu \n",
        "- Hàm loss của bài toán , ví dụ như đây là bài nhiều hơn 2 nhãn thì dùng categorical cross-entropy , không dùng sigmoid (2 nhãn)\n",
        "- Thuật toán tối ưu : Adam , thường thì adam là thuật toán tốt nhất trong các thuật toán tối ưu , nên có thay đổi thì có thể accuracy cũng không thay đổi mấy\n",
        "- Các lớp Dense cuối như 2 lớp cuối : Các hàm kích hoạt của nó thì sigmoid sau đó đến softmax là không nên thay đổi vì nó liên quan đến yêu cầu bài toán \n",
        "- Số node của lớp Dense cuối (10) phụ thuộc vào số nhãn cần nhận diện của bài toán "
      ]
    }
  ],
  "metadata": {
    "accelerator": "GPU",
    "colab": {
      "collapsed_sections": [],
      "name": "mnist.ipynb",
      "provenance": [],
      "version": "0.3.2"
    },
    "kernelspec": {
      "display_name": "Python 3",
      "name": "python3"
    },
    "language_info": {
      "codemirror_mode": {
        "name": "ipython",
        "version": 3
      },
      "file_extension": ".py",
      "mimetype": "text/x-python",
      "name": "python",
      "nbconvert_exporter": "python",
      "pygments_lexer": "ipython3",
      "version": "3.10.6"
    }
  },
  "nbformat": 4,
  "nbformat_minor": 0
}

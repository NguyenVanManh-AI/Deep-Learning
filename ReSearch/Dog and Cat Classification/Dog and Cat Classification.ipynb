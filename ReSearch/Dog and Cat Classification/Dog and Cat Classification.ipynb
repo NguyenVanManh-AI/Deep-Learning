{
 "cells": [
  {
   "cell_type": "markdown",
   "metadata": {},
   "source": [
    "# Dog and Cat Classification\n",
    "Overview : https://www.kaggle.com/competitions/dogs-vs-cats/overview <br>\n",
    "Dataset : https://www.kaggle.com/competitions/dogs-vs-cats/data <br>\n",
    "Tham khảo : https://www.kaggle.com/competitions/dogs-vs-cats/code "
   ]
  },
  {
   "cell_type": "code",
   "execution_count": null,
   "metadata": {},
   "outputs": [],
   "source": []
  }
 ],
 "metadata": {
  "language_info": {
   "name": "python"
  }
 },
 "nbformat": 4,
 "nbformat_minor": 2
}

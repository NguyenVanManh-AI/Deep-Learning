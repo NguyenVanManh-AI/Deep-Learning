{
 "cells": [
  {
   "cell_type": "code",
   "execution_count": 1,
   "metadata": {},
   "outputs": [
    {
     "name": "stdout",
     "output_type": "stream",
     "text": [
      "Sao chép hoàn tất.\n"
     ]
    }
   ],
   "source": [
    "import shutil\n",
    "from imutils import paths\n",
    "import random\n",
    "import os\n",
    "\n",
    "# Lấy các đường dẫn đến ảnh\n",
    "image_paths = list(paths.list_images('data/dogs-vs-cats/train/train'))\n",
    "\n",
    "# Đổi vị trí ngẫu nhiên các đường dẫn ảnh\n",
    "random.shuffle(image_paths)\n",
    "\n",
    "# Chỉ lấy 5000 dòng đầu tiên (5000 ảnh)\n",
    "selected_image_paths = image_paths[:500]\n",
    "\n",
    "# Thư mục đích để sao chép\n",
    "destination_folder = 'data_500'\n",
    "\n",
    "# Tạo thư mục đích nếu nó không tồn tại\n",
    "if not os.path.exists(destination_folder):\n",
    "    os.makedirs(destination_folder)\n",
    "\n",
    "# Sao chép các tệp ảnh vào thư mục đích\n",
    "for image_path in selected_image_paths:\n",
    "    filename = os.path.basename(image_path)\n",
    "    destination_path = os.path.join(destination_folder, filename)\n",
    "    shutil.copyfile(image_path, destination_path)\n",
    "\n",
    "print(\"Sao chép hoàn tất.\")\n"
   ]
  }
 ],
 "metadata": {
  "kernelspec": {
   "display_name": "Python 3",
   "language": "python",
   "name": "python3"
  },
  "language_info": {
   "codemirror_mode": {
    "name": "ipython",
    "version": 3
   },
   "file_extension": ".py",
   "mimetype": "text/x-python",
   "name": "python",
   "nbconvert_exporter": "python",
   "pygments_lexer": "ipython3",
   "version": "3.10.6"
  }
 },
 "nbformat": 4,
 "nbformat_minor": 2
}
